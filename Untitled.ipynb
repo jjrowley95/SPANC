{
 "cells": [
  {
   "cell_type": "code",
   "execution_count": 2,
   "metadata": {},
   "outputs": [],
   "source": [
    "import pandas as pd"
   ]
  },
  {
   "cell_type": "code",
   "execution_count": null,
   "metadata": {},
   "outputs": [],
   "source": [
    "players = pd.read_html(bball_url)"
   ]
  },
  {
   "cell_type": "code",
   "execution_count": 3,
   "metadata": {},
   "outputs": [],
   "source": [
    "# For each year in the decade \n",
    "bball_url = 'https://www.basketball-reference.com/players/j/jamesle01/gamelog/2010/'\n",
    "players = pd.read_html(bball_url)\n",
    "_10 = players[7]\n",
    "\n",
    "bball_url = 'https://www.basketball-reference.com/players/j/jamesle01/gamelog/2011/'\n",
    "players = pd.read_html(bball_url)\n",
    "_11 = players[7]\n",
    "\n",
    "bball_url = 'https://www.basketball-reference.com/players/j/jamesle01/gamelog/2012/'\n",
    "players = pd.read_html(bball_url)\n",
    "_12 = players[7]\n",
    "\n",
    "bball_url = 'https://www.basketball-reference.com/players/j/jamesle01/gamelog/2013/'\n",
    "players = pd.read_html(bball_url)\n",
    "_13 = players[7]\n",
    "\n",
    "bball_url = 'https://www.basketball-reference.com/players/j/jamesle01/gamelog/2014/'\n",
    "players = pd.read_html(bball_url)\n",
    "_14 = players[7]\n",
    "\n",
    "bball_url = 'https://www.basketball-reference.com/players/j/jamesle01/gamelog/2015/'\n",
    "players = pd.read_html(bball_url)\n",
    "_15 = players[7]\n",
    "\n",
    "bball_url = 'https://www.basketball-reference.com/players/j/jamesle01/gamelog/2016/'\n",
    "players = pd.read_html(bball_url)\n",
    "_16 = players[7]\n",
    "\n",
    "bball_url = 'https://www.basketball-reference.com/players/j/jamesle01/gamelog/2017/'\n",
    "players = pd.read_html(bball_url)\n",
    "_17 = players[7]\n",
    "\n",
    "bball_url = 'https://www.basketball-reference.com/players/j/jamesle01/gamelog/2018/'\n",
    "players = pd.read_html(bball_url)\n",
    "_18 = players[7]\n",
    "\n",
    "bball_url = 'https://www.basketball-reference.com/players/j/jamesle01/gamelog/2019/'\n",
    "players = pd.read_html(bball_url)\n",
    "_19 = players[7]\n",
    "\n",
    "df=_10\n"
   ]
  },
  {
   "cell_type": "code",
   "execution_count": 6,
   "metadata": {},
   "outputs": [],
   "source": [
    "df= df.append(_11)\n",
    "df= df.append(_12)\n",
    "df= df.append(_13)\n",
    "df= df.append(_14)\n",
    "df= df.append(_15)\n",
    "df= df.append(_16)\n",
    "df= df.append(_17)\n",
    "df= df.append(_18)\n",
    "df= df.append(_19)\n"
   ]
  },
  {
   "cell_type": "code",
   "execution_count": null,
   "metadata": {},
   "outputs": [],
   "source": []
  }
 ],
 "metadata": {
  "kernelspec": {
   "display_name": "Python 3",
   "language": "python",
   "name": "python3"
  },
  "language_info": {
   "codemirror_mode": {
    "name": "ipython",
    "version": 3
   },
   "file_extension": ".py",
   "mimetype": "text/x-python",
   "name": "python",
   "nbconvert_exporter": "python",
   "pygments_lexer": "ipython3",
   "version": "3.8.5"
  }
 },
 "nbformat": 4,
 "nbformat_minor": 4
}
